{
  "cells": [
    {
      "cell_type": "markdown",
      "metadata": {
        "id": "view-in-github",
        "colab_type": "text"
      },
      "source": [
        "<a href=\"https://colab.research.google.com/github/mishba-ai/Learning-ML/blob/main/Word_Similarity_and_Analogies.ipynb\" target=\"_parent\"><img src=\"https://colab.research.google.com/assets/colab-badge.svg\" alt=\"Open In Colab\"/></a>"
      ]
    },
    {
      "cell_type": "markdown",
      "metadata": {
        "id": "YE0tD2U4YCh4"
      },
      "source": [
        "https://chat.deepseek.com/a/chat/s/da893fe2-8183-4976-bdd5-a6963987a1d2\n",
        "\n",
        "questions :\n",
        "- how the vectors of words calculate??\n",
        "- how to create embeddings"
      ]
    },
    {
      "cell_type": "code",
      "execution_count": 1,
      "metadata": {
        "id": "YV3D0ZFCSnWW"
      },
      "outputs": [],
      "source": [
        "import torch\n",
        "import matplotlib as plt\n",
        "import numpy as np\n",
        "import pandas as pd"
      ]
    },
    {
      "cell_type": "markdown",
      "source": [
        "# using glove\n",
        "Uses a word-context matrix to represent the likelihood of a word appearing near another word\n"
      ],
      "metadata": {
        "id": "_ck4oqj3qGek"
      }
    },
    {
      "cell_type": "code",
      "execution_count": 2,
      "metadata": {
        "colab": {
          "base_uri": "https://localhost:8080/"
        },
        "collapsed": true,
        "id": "GtDpVgKNKAEw",
        "outputId": "22ecadea-9d71-49b0-ef9e-ec9cdadf26fe"
      },
      "outputs": [
        {
          "output_type": "stream",
          "name": "stdout",
          "text": [
            "--2025-01-28 13:17:56--  http://nlp.stanford.edu/data/glove.6B.zip\n",
            "Resolving nlp.stanford.edu (nlp.stanford.edu)... 171.64.67.140\n",
            "Connecting to nlp.stanford.edu (nlp.stanford.edu)|171.64.67.140|:80... connected.\n",
            "HTTP request sent, awaiting response... 302 Found\n",
            "Location: https://nlp.stanford.edu/data/glove.6B.zip [following]\n",
            "--2025-01-28 13:17:56--  https://nlp.stanford.edu/data/glove.6B.zip\n",
            "Connecting to nlp.stanford.edu (nlp.stanford.edu)|171.64.67.140|:443... connected.\n",
            "HTTP request sent, awaiting response... 301 Moved Permanently\n",
            "Location: https://downloads.cs.stanford.edu/nlp/data/glove.6B.zip [following]\n",
            "--2025-01-28 13:17:57--  https://downloads.cs.stanford.edu/nlp/data/glove.6B.zip\n",
            "Resolving downloads.cs.stanford.edu (downloads.cs.stanford.edu)... 171.64.64.22\n",
            "Connecting to downloads.cs.stanford.edu (downloads.cs.stanford.edu)|171.64.64.22|:443... connected.\n",
            "HTTP request sent, awaiting response... 200 OK\n",
            "Length: 862182613 (822M) [application/zip]\n",
            "Saving to: ‘glove.6B.zip’\n",
            "\n",
            "glove.6B.zip        100%[===================>] 822.24M  4.98MB/s    in 2m 41s  \n",
            "\n",
            "2025-01-28 13:20:39 (5.11 MB/s) - ‘glove.6B.zip’ saved [862182613/862182613]\n",
            "\n",
            "Archive:  glove.6B.zip\n",
            "  inflating: glove.6B.50d.txt        \n",
            "  inflating: glove.6B.100d.txt       \n",
            "  inflating: glove.6B.200d.txt       \n",
            "  inflating: glove.6B.300d.txt       \n"
          ]
        }
      ],
      "source": [
        "# Download GloVe embeddings\n",
        "!wget http://nlp.stanford.edu/data/glove.6B.zip\n",
        "\n",
        "# Unzip the file\n",
        "!unzip glove.6B.zip"
      ]
    },
    {
      "cell_type": "code",
      "execution_count": 3,
      "metadata": {
        "colab": {
          "base_uri": "https://localhost:8080/"
        },
        "id": "xJ0nXGG7STP_",
        "outputId": "5856377d-4a31-4f34-ac89-1805cdca5c1e"
      },
      "outputs": [
        {
          "output_type": "stream",
          "name": "stdout",
          "text": [
            "Loaded 400000 word vectors.\n"
          ]
        }
      ],
      "source": [
        "# Load the embeddings\n",
        "glove_path = \"glove.6B.50d.txt\"  # Use the 50-dimensional file\n",
        "embeddings_dict = {}  #  Words will be the keys, and their corresponding vector representations will be the values.\n",
        "with open(glove_path, 'r', encoding='utf-8') as f:\n",
        "  # Processing Each Line\n",
        "    for line in f:\n",
        "        values = line.split()\n",
        "        word = values[0]\n",
        "        vector = np.array(values[1:], dtype='float32') #This creates the vector representation of the word.\n",
        "        embeddings_dict[word] = vector\n",
        "\n",
        "print(f\"Loaded {len(embeddings_dict)} word vectors.\")"
      ]
    },
    {
      "cell_type": "markdown",
      "metadata": {
        "id": "mUrkxFdNU5EU"
      },
      "source": [
        "# Use the Embeddings"
      ]
    },
    {
      "cell_type": "markdown",
      "metadata": {
        "id": "KdknhwTDVLq5"
      },
      "source": [
        "## Find Similar Words\n"
      ]
    },
    {
      "cell_type": "code",
      "execution_count": 4,
      "metadata": {
        "colab": {
          "base_uri": "https://localhost:8080/"
        },
        "id": "ehtcvtwWVLRL",
        "outputId": "a6593edc-61f3-42ba-a0e3-93fdcf11882a"
      },
      "outputs": [
        {
          "output_type": "stream",
          "name": "stdout",
          "text": [
            "Words similar to 'king': [('prince', 0.823618), ('queen', 0.7839043), ('ii', 0.77462304), ('emperor', 0.77362484), ('son', 0.76671946)]\n"
          ]
        }
      ],
      "source": [
        "from sklearn.metrics.pairwise import cosine_similarity #this function will be used to calculate the similarity between word vectors.\n",
        "\n",
        "def find_similar_words(word, top_n=5):\n",
        "    if word not in embeddings_dict:\n",
        "        return f\"'{word}' not in vocabulary.\"\n",
        "\n",
        "    # Get the vector for the input word\n",
        "    word_vector = embeddings_dict[word].reshape(1, -1) #reshape is used to ensure the vector has the correct shape for the cosine_similarity function.\n",
        "\n",
        "    # Compute cosine similarity with all other words\n",
        "    similarities = {}\n",
        "    for other_word, other_vector in embeddings_dict.items():\n",
        "        if other_word == word:\n",
        "            continue\n",
        "        sim = cosine_similarity(word_vector, other_vector.reshape(1, -1))[0][0]\n",
        "        similarities[other_word] = sim\n",
        "\n",
        "    # Sort by similarity and return the top N words\n",
        "    sorted_similarities = sorted(similarities.items(), key=lambda x: x[1], reverse=True)\n",
        "    return sorted_similarities[:top_n]\n",
        "\n",
        "# Example usage\n",
        "word = \"king\"\n",
        "similar_words = find_similar_words(word)\n",
        "print(f\"Words similar to '{word}': {similar_words}\")"
      ]
    },
    {
      "cell_type": "markdown",
      "metadata": {
        "id": "3CqbsqCBYMpg"
      },
      "source": [
        "## Visualize Embeddings\n",
        "\n",
        "\n",
        "\n",
        "\n",
        "\n"
      ]
    },
    {
      "cell_type": "code",
      "execution_count": 5,
      "metadata": {
        "id": "Y-xzMFdqUgum",
        "colab": {
          "base_uri": "https://localhost:8080/",
          "height": 521
        },
        "outputId": "c84f4b63-833a-4e74-dfc6-c9ece9ca96de"
      },
      "outputs": [
        {
          "output_type": "display_data",
          "data": {
            "text/plain": [
              "<Figure size 1000x600 with 1 Axes>"
            ],
            "image/png": "[encoded data removed]"
          },
          "metadata": {}
        }
      ],
      "source": [
        "from sklearn.decomposition import PCA\n",
        "import matplotlib.pyplot as plt\n",
        "\n",
        "# Select a few words to visualize\n",
        "words_to_visualize = [\"king\", \"queen\", \"man\", \"woman\", \"paris\", \"france\", \"london\", \"england\",\"daydreaming\",\"fantasy\"]\n",
        "vectors = [embeddings_dict[word] for word in words_to_visualize]\n",
        "\n",
        "# Reduce dimensionality to 2D using PCA\n",
        "pca = PCA(n_components=2)\n",
        "reduced_vectors = pca.fit_transform(vectors)\n",
        "\n",
        "# Plot the words\n",
        "plt.figure(figsize=(10, 6))\n",
        "for i, word in enumerate(words_to_visualize):\n",
        "    plt.scatter(reduced_vectors[i, 0], reduced_vectors[i, 1])\n",
        "    plt.text(reduced_vectors[i, 0], reduced_vectors[i, 1], word, fontsize=12)\n",
        "plt.title(\"2D Visualization of Word Embeddings\")\n",
        "plt.show()"
      ]
    }
  ],
  "metadata": {
    "colab": {
      "provenance": [],
      "authorship_tag": "ABX9TyNmWNyyLsPVxohNPC2sTIAp",
      "include_colab_link": true
    },
    "kernelspec": {
      "display_name": "Python 3",
      "name": "python3"
    },
    "language_info": {
      "name": "python"
    }
  },
  "nbformat": 4,
  "nbformat_minor": 0
}