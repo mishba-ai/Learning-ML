{
  "nbformat": 4,
  "nbformat_minor": 0,
  "metadata": {
    "colab": {
      "provenance": [],
      "authorship_tag": "ABX9TyMczym+yf5F+SLHP0+slP9C",
      "include_colab_link": true
    },
    "kernelspec": {
      "name": "python3",
      "display_name": "Python 3"
    },
    "language_info": {
      "name": "python"
    }
  },
  "cells": [
    {
      "cell_type": "markdown",
      "metadata": {
        "id": "view-in-github",
        "colab_type": "text"
      },
      "source": [
        "<a href=\"https://colab.research.google.com/github/mishba-ai/Learning-ML/blob/main/Naivebayes_classifier_from_scratch.ipynb\" target=\"_parent\"><img src=\"https://colab.research.google.com/assets/colab-badge.svg\" alt=\"Open In Colab\"/></a>"
      ]
    },
    {
      "cell_type": "markdown",
      "source": [
        "# sentiment analysis on Reddit posts"
      ],
      "metadata": {
        "id": "82v7DugbuCDj"
      }
    },
    {
      "cell_type": "markdown",
      "source": [
        "\n",
        "- Fetch data from the Reddit API.\n",
        "\n",
        "- Preprocess the text data.\n",
        "\n",
        "- Build a vocabulary.\n",
        "\n",
        "- Extract features using Bag of Words (BoW).\n",
        "\n",
        "- Train a Naive Bayes classifier.\n",
        "\n",
        "- Evaluate the model."
      ],
      "metadata": {
        "id": "8omkZQCZl8XI"
      }
    },
    {
      "cell_type": "code",
      "execution_count": 3,
      "metadata": {
        "colab": {
          "base_uri": "https://localhost:8080/"
        },
        "collapsed": true,
        "id": "QpYCkW7Kib5J",
        "outputId": "93644fae-3965-4e2c-c327-a36742145d0a"
      },
      "outputs": [
        {
          "output_type": "stream",
          "name": "stdout",
          "text": [
            "Requirement already satisfied: asyncpraw in /usr/local/lib/python3.11/dist-packages (7.8.1)\n",
            "Requirement already satisfied: aiofiles in /usr/local/lib/python3.11/dist-packages (from asyncpraw) (24.1.0)\n",
            "Requirement already satisfied: aiohttp<4 in /usr/local/lib/python3.11/dist-packages (from asyncpraw) (3.11.11)\n",
            "Requirement already satisfied: aiosqlite<=0.17.0 in /usr/local/lib/python3.11/dist-packages (from asyncpraw) (0.17.0)\n",
            "Requirement already satisfied: asyncprawcore<3,>=2.4 in /usr/local/lib/python3.11/dist-packages (from asyncpraw) (2.4.0)\n",
            "Requirement already satisfied: update_checker>=0.18 in /usr/local/lib/python3.11/dist-packages (from asyncpraw) (0.18.0)\n",
            "Requirement already satisfied: aiohappyeyeballs>=2.3.0 in /usr/local/lib/python3.11/dist-packages (from aiohttp<4->asyncpraw) (2.4.4)\n",
            "Requirement already satisfied: aiosignal>=1.1.2 in /usr/local/lib/python3.11/dist-packages (from aiohttp<4->asyncpraw) (1.3.2)\n",
            "Requirement already satisfied: attrs>=17.3.0 in /usr/local/lib/python3.11/dist-packages (from aiohttp<4->asyncpraw) (25.1.0)\n",
            "Requirement already satisfied: frozenlist>=1.1.1 in /usr/local/lib/python3.11/dist-packages (from aiohttp<4->asyncpraw) (1.5.0)\n",
            "Requirement already satisfied: multidict<7.0,>=4.5 in /usr/local/lib/python3.11/dist-packages (from aiohttp<4->asyncpraw) (6.1.0)\n",
            "Requirement already satisfied: propcache>=0.2.0 in /usr/local/lib/python3.11/dist-packages (from aiohttp<4->asyncpraw) (0.2.1)\n",
            "Requirement already satisfied: yarl<2.0,>=1.17.0 in /usr/local/lib/python3.11/dist-packages (from aiohttp<4->asyncpraw) (1.18.3)\n",
            "Requirement already satisfied: typing_extensions>=3.7.2 in /usr/local/lib/python3.11/dist-packages (from aiosqlite<=0.17.0->asyncpraw) (4.12.2)\n",
            "Requirement already satisfied: requests>=2.3.0 in /usr/local/lib/python3.11/dist-packages (from update_checker>=0.18->asyncpraw) (2.32.3)\n",
            "Requirement already satisfied: charset-normalizer<4,>=2 in /usr/local/lib/python3.11/dist-packages (from requests>=2.3.0->update_checker>=0.18->asyncpraw) (3.4.1)\n",
            "Requirement already satisfied: idna<4,>=2.5 in /usr/local/lib/python3.11/dist-packages (from requests>=2.3.0->update_checker>=0.18->asyncpraw) (3.10)\n",
            "Requirement already satisfied: urllib3<3,>=1.21.1 in /usr/local/lib/python3.11/dist-packages (from requests>=2.3.0->update_checker>=0.18->asyncpraw) (2.3.0)\n",
            "Requirement already satisfied: certifi>=2017.4.17 in /usr/local/lib/python3.11/dist-packages (from requests>=2.3.0->update_checker>=0.18->asyncpraw) (2024.12.14)\n"
          ]
        }
      ],
      "source": [
        "!pip install asyncpraw\n",
        "import math\n",
        "from collections import defaultdict,Counter\n",
        "import asyncpraw\n",
        "import asyncio\n",
        "from IPython import get_ipython\n",
        "import pandas as pd"
      ]
    },
    {
      "cell_type": "code",
      "source": [
        "# access secret keys\n",
        "from google.colab import userdata\n",
        "client_id = userdata.get('CLIENT_ID')\n",
        "client_secret = userdata.get('CLIENT_SECRET')\n",
        "user_agent = userdata.get('USER_AGENT')"
      ],
      "metadata": {
        "id": "wsRQWa3xj9x2"
      },
      "execution_count": 4,
      "outputs": []
    },
    {
      "cell_type": "code",
      "source": [
        "# Authenticate with Reddit API\n",
        "reddit = asyncpraw.Reddit(\n",
        "    client_id=client_id,          # Your Client ID\n",
        "    client_secret=client_secret,  # Your Client Secret\n",
        "    user_agent=user_agent         # A unique identifier for your app\n",
        ")"
      ],
      "metadata": {
        "id": "fXwGopv5j9Df"
      },
      "execution_count": 5,
      "outputs": []
    },
    {
      "cell_type": "code",
      "source": [
        "# fetch data\n",
        "\n",
        "async def fetch_reddit_data(subreddit_name, limit=100):\n",
        "    data = []\n",
        "    subreddit = await reddit.subreddit(subreddit_name)\n",
        "\n",
        "    async for submission in subreddit.hot(limit=limit):\n",
        "        # Combine title and selftext for analysis\n",
        "        full_text = f\"{submission.title} {submission.selftext}\"\n",
        "\n",
        "        # Basic sentiment assignment based on score\n",
        "        # You might want to adjust these thresholds\n",
        "        sentiment = 'positive' if submission.score > 5 else 'negative'\n",
        "\n",
        "        data.append({\n",
        "            'text': full_text,\n",
        "            'score': submission.score,\n",
        "            'url': submission.url,\n",
        "            'sentiment': sentiment\n",
        "        })\n",
        "\n",
        "    return data"
      ],
      "metadata": {
        "id": "p1rFs4aqi14X"
      },
      "execution_count": 6,
      "outputs": []
    },
    {
      "cell_type": "code",
      "source": [
        "import nest_asyncio\n",
        "nest_asyncio.apply()\n",
        "\n",
        "async def main():\n",
        "    reddit_data = await fetch_reddit_data(\"SAAS\", limit=50)\n",
        "    return reddit_data\n",
        "\n",
        "# Run the async function\n",
        "reddit_data = asyncio.run(main())\n",
        "\n",
        "# Convert to DataFrame for easier viewing\n",
        "df = pd.DataFrame(reddit_data)\n",
        "print(f\"Fetched {len(df)} posts\")\n",
        "df.head()"
      ],
      "metadata": {
        "colab": {
          "base_uri": "https://localhost:8080/",
          "height": 449
        },
        "id": "C8a7mMjnofjC",
        "outputId": "ff381017-b571-40fe-fd23-a588fd862c77"
      },
      "execution_count": 8,
      "outputs": [
        {
          "output_type": "stream",
          "name": "stdout",
          "text": [
            "Fetched 50 posts\n"
          ]
        },
        {
          "output_type": "execute_result",
          "data": {
            "text/plain": [
              "                                                text  score  \\\n",
              "0  Upcoming AmA: \"Bootstrapped to 25,000,000 user...     16   \n",
              "1  Weekly Feedback Post - SaaS Products, Ideas, C...      6   \n",
              "2  Your users don’t care if you’re using OpenAI, ...     42   \n",
              "3  The Hidden Superpower in Building Successful S...     18   \n",
              "4  What is most genius marketing you can have com...     29   \n",
              "\n",
              "                                                 url sentiment  \n",
              "0  https://www.reddit.com/r/SaaS/comments/1iecmnj...  positive  \n",
              "1  https://www.reddit.com/r/SaaS/comments/1ics6vd...  positive  \n",
              "2  https://www.reddit.com/r/SaaS/comments/1if64xj...  positive  \n",
              "3  https://www.reddit.com/r/SaaS/comments/1ifa29a...  positive  \n",
              "4  https://www.reddit.com/r/SaaS/comments/1if6lw5...  positive  "
            ],
            "text/html": [
              "\n",
              "  <div id=\"df-78089ae4-6c96-4dd8-8a31-d364a413917e\" class=\"colab-df-container\">\n",
              "    <div>\n",
              "<style scoped>\n",
              "    .dataframe tbody tr th:only-of-type {\n",
              "        vertical-align: middle;\n",
              "    }\n",
              "\n",
              "    .dataframe tbody tr th {\n",
              "        vertical-align: top;\n",
              "    }\n",
              "\n",
              "    .dataframe thead th {\n",
              "        text-align: right;\n",
              "    }\n",
              "</style>\n",
              "<table border=\"1\" class=\"dataframe\">\n",
              "  <thead>\n",
              "    <tr style=\"text-align: right;\">\n",
              "      <th></th>\n",
              "      <th>text</th>\n",
              "      <th>score</th>\n",
              "      <th>url</th>\n",
              "      <th>sentiment</th>\n",
              "    </tr>\n",
              "  </thead>\n",
              "  <tbody>\n",
              "    <tr>\n",
              "      <th>0</th>\n",
              "      <td>Upcoming AmA: \"Bootstrapped to 25,000,000 user...</td>\n",
              "      <td>16</td>\n",
              "      <td>https://www.reddit.com/r/SaaS/comments/1iecmnj...</td>\n",
              "      <td>positive</td>\n",
              "    </tr>\n",
              "    <tr>\n",
              "      <th>1</th>\n",
              "      <td>Weekly Feedback Post - SaaS Products, Ideas, C...</td>\n",
              "      <td>6</td>\n",
              "      <td>https://www.reddit.com/r/SaaS/comments/1ics6vd...</td>\n",
              "      <td>positive</td>\n",
              "    </tr>\n",
              "    <tr>\n",
              "      <th>2</th>\n",
              "      <td>Your users don’t care if you’re using OpenAI, ...</td>\n",
              "      <td>42</td>\n",
              "      <td>https://www.reddit.com/r/SaaS/comments/1if64xj...</td>\n",
              "      <td>positive</td>\n",
              "    </tr>\n",
              "    <tr>\n",
              "      <th>3</th>\n",
              "      <td>The Hidden Superpower in Building Successful S...</td>\n",
              "      <td>18</td>\n",
              "      <td>https://www.reddit.com/r/SaaS/comments/1ifa29a...</td>\n",
              "      <td>positive</td>\n",
              "    </tr>\n",
              "    <tr>\n",
              "      <th>4</th>\n",
              "      <td>What is most genius marketing you can have com...</td>\n",
              "      <td>29</td>\n",
              "      <td>https://www.reddit.com/r/SaaS/comments/1if6lw5...</td>\n",
              "      <td>positive</td>\n",
              "    </tr>\n",
              "  </tbody>\n",
              "</table>\n",
              "</div>\n",
              "    <div class=\"colab-df-buttons\">\n",
              "\n",
              "  <div class=\"colab-df-container\">\n",
              "    <button class=\"colab-df-convert\" onclick=\"convertToInteractive('df-78089ae4-6c96-4dd8-8a31-d364a413917e')\"\n",
              "            title=\"Convert this dataframe to an interactive table.\"\n",
              "            style=\"display:none;\">\n",
              "\n",
              "  <svg xmlns=\"http://www.w3.org/2000/svg\" height=\"24px\" viewBox=\"0 -960 960 960\">\n",
              "    <path d=\"M120-120v-720h720v720H120Zm60-500h600v-160H180v160Zm220 220h160v-160H400v160Zm0 220h160v-160H400v160ZM180-400h160v-160H180v160Zm440 0h160v-160H620v160ZM180-180h160v-160H180v160Zm440 0h160v-160H620v160Z\"/>\n",
              "  </svg>\n",
              "    </button>\n",
              "\n",
              "  <style>\n",
              "    .colab-df-container {\n",
              "      display:flex;\n",
              "      gap: 12px;\n",
              "    }\n",
              "\n",
              "    .colab-df-convert {\n",
              "      background-color: #E8F0FE;\n",
              "      border: none;\n",
              "      border-radius: 50%;\n",
              "      cursor: pointer;\n",
              "      display: none;\n",
              "      fill: #1967D2;\n",
              "      height: 32px;\n",
              "      padding: 0 0 0 0;\n",
              "      width: 32px;\n",
              "    }\n",
              "\n",
              "    .colab-df-convert:hover {\n",
              "      background-color: #E2EBFA;\n",
              "      box-shadow: 0px 1px 2px rgba(60, 64, 67, 0.3), 0px 1px 3px 1px rgba(60, 64, 67, 0.15);\n",
              "      fill: #174EA6;\n",
              "    }\n",
              "\n",
              "    .colab-df-buttons div {\n",
              "      margin-bottom: 4px;\n",
              "    }\n",
              "\n",
              "    [theme=dark] .colab-df-convert {\n",
              "      background-color: #3B4455;\n",
              "      fill: #D2E3FC;\n",
              "    }\n",
              "\n",
              "    [theme=dark] .colab-df-convert:hover {\n",
              "      background-color: #434B5C;\n",
              "      box-shadow: 0px 1px 3px 1px rgba(0, 0, 0, 0.15);\n",
              "      filter: drop-shadow(0px 1px 2px rgba(0, 0, 0, 0.3));\n",
              "      fill: #FFFFFF;\n",
              "    }\n",
              "  </style>\n",
              "\n",
              "    <script>\n",
              "      const buttonEl =\n",
              "        document.querySelector('#df-78089ae4-6c96-4dd8-8a31-d364a413917e button.colab-df-convert');\n",
              "      buttonEl.style.display =\n",
              "        google.colab.kernel.accessAllowed ? 'block' : 'none';\n",
              "\n",
              "      async function convertToInteractive(key) {\n",
              "        const element = document.querySelector('#df-78089ae4-6c96-4dd8-8a31-d364a413917e');\n",
              "        const dataTable =\n",
              "          await google.colab.kernel.invokeFunction('convertToInteractive',\n",
              "                                                    [key], {});\n",
              "        if (!dataTable) return;\n",
              "\n",
              "        const docLinkHtml = 'Like what you see? Visit the ' +\n",
              "          '<a target=\"_blank\" href=https://colab.research.google.com/notebooks/data_table.ipynb>data table notebook</a>'\n",
              "          + ' to learn more about interactive tables.';\n",
              "        element.innerHTML = '';\n",
              "        dataTable['output_type'] = 'display_data';\n",
              "        await google.colab.output.renderOutput(dataTable, element);\n",
              "        const docLink = document.createElement('div');\n",
              "        docLink.innerHTML = docLinkHtml;\n",
              "        element.appendChild(docLink);\n",
              "      }\n",
              "    </script>\n",
              "  </div>\n",
              "\n",
              "\n",
              "<div id=\"df-35a0235c-f4ed-4ee0-bc64-9c2d17bb6c40\">\n",
              "  <button class=\"colab-df-quickchart\" onclick=\"quickchart('df-35a0235c-f4ed-4ee0-bc64-9c2d17bb6c40')\"\n",
              "            title=\"Suggest charts\"\n",
              "            style=\"display:none;\">\n",
              "\n",
              "<svg xmlns=\"http://www.w3.org/2000/svg\" height=\"24px\"viewBox=\"0 0 24 24\"\n",
              "     width=\"24px\">\n",
              "    <g>\n",
              "        <path d=\"M19 3H5c-1.1 0-2 .9-2 2v14c0 1.1.9 2 2 2h14c1.1 0 2-.9 2-2V5c0-1.1-.9-2-2-2zM9 17H7v-7h2v7zm4 0h-2V7h2v10zm4 0h-2v-4h2v4z\"/>\n",
              "    </g>\n",
              "</svg>\n",
              "  </button>\n",
              "\n",
              "<style>\n",
              "  .colab-df-quickchart {\n",
              "      --bg-color: #E8F0FE;\n",
              "      --fill-color: #1967D2;\n",
              "      --hover-bg-color: #E2EBFA;\n",
              "      --hover-fill-color: #174EA6;\n",
              "      --disabled-fill-color: #AAA;\n",
              "      --disabled-bg-color: #DDD;\n",
              "  }\n",
              "\n",
              "  [theme=dark] .colab-df-quickchart {\n",
              "      --bg-color: #3B4455;\n",
              "      --fill-color: #D2E3FC;\n",
              "      --hover-bg-color: #434B5C;\n",
              "      --hover-fill-color: #FFFFFF;\n",
              "      --disabled-bg-color: #3B4455;\n",
              "      --disabled-fill-color: #666;\n",
              "  }\n",
              "\n",
              "  .colab-df-quickchart {\n",
              "    background-color: var(--bg-color);\n",
              "    border: none;\n",
              "    border-radius: 50%;\n",
              "    cursor: pointer;\n",
              "    display: none;\n",
              "    fill: var(--fill-color);\n",
              "    height: 32px;\n",
              "    padding: 0;\n",
              "    width: 32px;\n",
              "  }\n",
              "\n",
              "  .colab-df-quickchart:hover {\n",
              "    background-color: var(--hover-bg-color);\n",
              "    box-shadow: 0 1px 2px rgba(60, 64, 67, 0.3), 0 1px 3px 1px rgba(60, 64, 67, 0.15);\n",
              "    fill: var(--button-hover-fill-color);\n",
              "  }\n",
              "\n",
              "  .colab-df-quickchart-complete:disabled,\n",
              "  .colab-df-quickchart-complete:disabled:hover {\n",
              "    background-color: var(--disabled-bg-color);\n",
              "    fill: var(--disabled-fill-color);\n",
              "    box-shadow: none;\n",
              "  }\n",
              "\n",
              "  .colab-df-spinner {\n",
              "    border: 2px solid var(--fill-color);\n",
              "    border-color: transparent;\n",
              "    border-bottom-color: var(--fill-color);\n",
              "    animation:\n",
              "      spin 1s steps(1) infinite;\n",
              "  }\n",
              "\n",
              "  @keyframes spin {\n",
              "    0% {\n",
              "      border-color: transparent;\n",
              "      border-bottom-color: var(--fill-color);\n",
              "      border-left-color: var(--fill-color);\n",
              "    }\n",
              "    20% {\n",
              "      border-color: transparent;\n",
              "      border-left-color: var(--fill-color);\n",
              "      border-top-color: var(--fill-color);\n",
              "    }\n",
              "    30% {\n",
              "      border-color: transparent;\n",
              "      border-left-color: var(--fill-color);\n",
              "      border-top-color: var(--fill-color);\n",
              "      border-right-color: var(--fill-color);\n",
              "    }\n",
              "    40% {\n",
              "      border-color: transparent;\n",
              "      border-right-color: var(--fill-color);\n",
              "      border-top-color: var(--fill-color);\n",
              "    }\n",
              "    60% {\n",
              "      border-color: transparent;\n",
              "      border-right-color: var(--fill-color);\n",
              "    }\n",
              "    80% {\n",
              "      border-color: transparent;\n",
              "      border-right-color: var(--fill-color);\n",
              "      border-bottom-color: var(--fill-color);\n",
              "    }\n",
              "    90% {\n",
              "      border-color: transparent;\n",
              "      border-bottom-color: var(--fill-color);\n",
              "    }\n",
              "  }\n",
              "</style>\n",
              "\n",
              "  <script>\n",
              "    async function quickchart(key) {\n",
              "      const quickchartButtonEl =\n",
              "        document.querySelector('#' + key + ' button');\n",
              "      quickchartButtonEl.disabled = true;  // To prevent multiple clicks.\n",
              "      quickchartButtonEl.classList.add('colab-df-spinner');\n",
              "      try {\n",
              "        const charts = await google.colab.kernel.invokeFunction(\n",
              "            'suggestCharts', [key], {});\n",
              "      } catch (error) {\n",
              "        console.error('Error during call to suggestCharts:', error);\n",
              "      }\n",
              "      quickchartButtonEl.classList.remove('colab-df-spinner');\n",
              "      quickchartButtonEl.classList.add('colab-df-quickchart-complete');\n",
              "    }\n",
              "    (() => {\n",
              "      let quickchartButtonEl =\n",
              "        document.querySelector('#df-35a0235c-f4ed-4ee0-bc64-9c2d17bb6c40 button');\n",
              "      quickchartButtonEl.style.display =\n",
              "        google.colab.kernel.accessAllowed ? 'block' : 'none';\n",
              "    })();\n",
              "  </script>\n",
              "</div>\n",
              "\n",
              "    </div>\n",
              "  </div>\n"
            ],
            "application/vnd.google.colaboratory.intrinsic+json": {
              "type": "dataframe",
              "variable_name": "df",
              "summary": "{\n  \"name\": \"df\",\n  \"rows\": 50,\n  \"fields\": [\n    {\n      \"column\": \"text\",\n      \"properties\": {\n        \"dtype\": \"string\",\n        \"num_unique_values\": 50,\n        \"samples\": [\n          \"I Sold My Side Project \\ud83e\\udd73 \\u2013 Here\\u2019s How the Handoff Went Hey everyone! A little while ago, I shared that LectureKit got acquired (super exciting!), and I wanted to follow up with how the actual transfer process looked.\\n\\nHonestly, I had no idea what happens after you sell a SaaS project\\u2014but now I do. Turns out, it was way easier than I thought, so I figured I\\u2019d share the steps in case it helps anyone else thinking of selling.\\n\\nHere\\u2019s what the handoff looked like:\\n\\nCode & Documentation:\\n\\nI pushed the code into a new GitHub repo owned by the dev working for the buyer. That\\u2019s it. Simple and clean.\\n\\nDatabase (MongoDB):\\n\\nI invited him to my MongoDB project, gave him admin access, and he transferred the DB to his own account. Once that was done, I removed his access from my project.\\n\\nDomain Name:\\n\\nI used NameCheap, and they have a super straightforward domain transfer option. Literally a few clicks.\\n\\nAWS (S3 Buckets & CloudFront):\\n\\nThis was the trickiest part.\\n\\nThe buyer gave me temporary IAM access to their AWS account.\\n\\nI created the necessary roles, set up policies on both origin and destination buckets.\\n\\nWrote a quick script to copy all the content from my S3 buckets to theirs and applied the right policies for S3 and CloudFront.\\n\\nEmails:\\n\\nExported all user emails to a CSV file and sent it over for them to upload into their email provider (Resend).\\n\\nPayments (Paddle):\\n\\nJust gave them access to my Paddle account for this project.\\n\\nThat\\u2019s pretty much it! Honestly, it was smoother than I expected. If anyone\\u2019s thinking of selling a SaaS project and has questions, feel free to ask \\n\\nI'll be happy to help :)\\n\\nAnd now\\u2026 onto the next adventure \\ud83d\\ude80 (Working on 2 more projects)\",\n          \"Feedback on new no-code, no-effort website builder that lets you export your code Hey everyone!  \\n  \\nWhen building my first SaaS platform, I tried a few no-code tools but kept running into the same two issues:\\n\\n1. Limited templates (with no easy way to replicate a design I liked).\\n2. No straightforward way to export the code for self-hosting.\\n\\nAfter facing these roadblocks repeatedly, I decided to build my own solution: [Build-website.ai](https://build-website.ai). Here\\u2019s what it does:\\n\\n* You pick any site layout you like (by providing its URL).\\n* Enter your content.\\n* Generate a working website in just minutes.\\n* We can host it for you and point it to your domain, or if you prefer, you can export the code (in Vue or React) for customization and self-hosting.\\n\\nPricing: I\\u2019m considering $100 one-time for generating a site and $20/month for hosting.\\n\\nI\\u2019ve already helped 6 websites in 4 days. Now, I\\u2019d love to hear from the community:\\n\\n* Does this solve a genuine pain point for you?\\n* How does the pricing feel?\\n* Are there any must-have features you\\u2019d like to see?\\n\\nThanks in advance for your insights\\u2014I appreciate any feedback or questions!\",\n          \"Should I proceed or not? Hey guys!! So I recently got an idea to build a product then I went online to check whether it exists or not and found 1 or 2 similar ones\\nBut since I or my friends haven't heard of them before I'm assuming their marketing is either too weak or they are flawed. So my question is whether i should brainstorm a new idea or proceed with it and do a good job in marketing and SEO?\\nThanks for anyone who answers!!!\"\n        ],\n        \"semantic_type\": \"\",\n        \"description\": \"\"\n      }\n    },\n    {\n      \"column\": \"score\",\n      \"properties\": {\n        \"dtype\": \"number\",\n        \"std\": 9,\n        \"min\": 0,\n        \"max\": 42,\n        \"num_unique_values\": 18,\n        \"samples\": [\n          16,\n          6,\n          33\n        ],\n        \"semantic_type\": \"\",\n        \"description\": \"\"\n      }\n    },\n    {\n      \"column\": \"url\",\n      \"properties\": {\n        \"dtype\": \"string\",\n        \"num_unique_values\": 50,\n        \"samples\": [\n          \"https://www.reddit.com/r/SaaS/comments/1if6tu9/i_sold_my_side_project_heres_how_the_handoff_went/\",\n          \"https://www.reddit.com/r/SaaS/comments/1if2d0z/feedback_on_new_nocode_noeffort_website_builder/\",\n          \"https://www.reddit.com/r/SaaS/comments/1ifaot2/should_i_proceed_or_not/\"\n        ],\n        \"semantic_type\": \"\",\n        \"description\": \"\"\n      }\n    },\n    {\n      \"column\": \"sentiment\",\n      \"properties\": {\n        \"dtype\": \"category\",\n        \"num_unique_values\": 2,\n        \"samples\": [\n          \"negative\",\n          \"positive\"\n        ],\n        \"semantic_type\": \"\",\n        \"description\": \"\"\n      }\n    }\n  ]\n}"
            }
          },
          "metadata": {},
          "execution_count": 8
        }
      ]
    },
    {
      "cell_type": "markdown",
      "source": [
        "# Naive Bayes Classifier:\n",
        "\n"
      ],
      "metadata": {
        "id": "uZLKQvIUmIwa"
      }
    },
    {
      "cell_type": "markdown",
      "source": [
        "Naive Bayes is a probabilistic classifier based on Bayes' Theorem:\n",
        "\n",
        "P(A|B) = P(B|A) × P(A) / P(B)\n",
        "In the context of text classification:\n",
        "\n",
        "- P(Class|Text) = P(Text|Class) × P(Class) / P(Text)\n",
        "- We want to find which class has the highest probability given the text\n",
        "\n",
        " When to Use Naive Bayes?\n",
        "\n",
        "Naive Bayes is particularly good for:\n",
        "\n",
        "- Text classification (spam detection, sentiment analysis)\n",
        "- Document categorization\n",
        "- Email filtering\n",
        "- Language detection\n",
        "- Disease diagnosis\n",
        "\n",
        "It works best when:\n",
        "\n",
        "- You need fast training and prediction\n",
        "- You have high-dimensional data (like text)\n",
        "- You want probabilistic predictions\n",
        "- You have relatively independent features\n",
        "- You need to handle missing data well"
      ],
      "metadata": {
        "id": "gdxCzEjMqgp6"
      }
    },
    {
      "cell_type": "markdown",
      "source": [
        "\n",
        "\n",
        "---\n",
        "\n",
        "The process involves several steps:\n",
        " 1. Training Phase:\n",
        "\n",
        "a. Calculate P(Class) for each class\n",
        "\n",
        "- Count how often each class appears in training data\n",
        "- Example: P(positive) = number of positive reviews / total reviews\n",
        "\n",
        "\n",
        "  b. Calculate P(Word|Class) for each word and class\n",
        "\n",
        "- Count word frequencies in each class\n",
        "Apply smoothing to handle unseen words\n",
        "- Example: P(great|positive) = (count of \"great\" in positive reviews + 1) / (total words in positive reviews + vocabulary size)\n",
        "\n",
        "\n",
        "\n",
        "2. Prediction Phase:\n",
        "\n",
        "- For a new text, calculate P(Class|Text) for each class\n",
        "- Choose the class with highest probability"
      ],
      "metadata": {
        "id": "tCilgeNnsT0d"
      }
    },
    {
      "cell_type": "code",
      "source": [
        "class NaiveBayesClassifier:\n",
        "    def __init__(self):\n",
        "        self.class_probs = {}  # P(class)\n",
        "        self.word_probs = {}   # P(word|class)\n",
        "        self.vocabulary = set()\n",
        "\n",
        "    def preprocess_text(self, text):\n",
        "        \"\"\"Clean and tokenize text.\"\"\"\n",
        "        # Convert to lowercase\n",
        "        text = text.lower()\n",
        "        # Basic punctuation removal (you can expand this)\n",
        "        for punct in '.,!?;:()[]{}\"\"''':\n",
        "            text = text.replace(punct, '')\n",
        "        # Split into words\n",
        "        return text.split()\n",
        "\n",
        "    def build_vocabulary(self, texts):\n",
        "        \"\"\"Build vocabulary from all texts.\"\"\"\n",
        "        for text in texts:\n",
        "            words = self.preprocess_text(text)\n",
        "            self.vocabulary.update(words)\n",
        "\n",
        "    def extract_features(self, text):\n",
        "        \"\"\"Convert text to bag of words.\"\"\"\n",
        "        words = self.preprocess_text(text)\n",
        "        return Counter(words)\n",
        "\n",
        "    def train(self, texts, labels):\n",
        "        \"\"\"Train the Naive Bayes classifier.\"\"\"\n",
        "        # Build vocabulary\n",
        "        self.build_vocabulary(texts)\n",
        "\n",
        "        # Count documents per class\n",
        "        class_counts = Counter(labels)\n",
        "        total_docs = len(texts)\n",
        "\n",
        "        # Calculate P(class)\n",
        "        for class_label in class_counts:\n",
        "            self.class_probs[class_label] = class_counts[class_label] / total_docs\n",
        "\n",
        "        # Initialize word counts per class\n",
        "        word_counts = defaultdict(lambda: defaultdict(int))\n",
        "        total_words_per_class = defaultdict(int)\n",
        "\n",
        "        # Count word occurrences per class\n",
        "        for text, label in zip(texts, labels):\n",
        "            words = self.preprocess_text(text)\n",
        "            for word in words:\n",
        "                word_counts[label][word] += 1\n",
        "                total_words_per_class[label] += 1\n",
        "\n",
        "        # Calculate P(word|class) with Laplace smoothing\n",
        "        vocab_size = len(self.vocabulary)\n",
        "        self.word_probs = defaultdict(dict)\n",
        "\n",
        "        for class_label in class_counts:\n",
        "            for word in self.vocabulary:\n",
        "                # Add-one smoothing\n",
        "                numerator = word_counts[class_label][word] + 1\n",
        "                denominator = total_words_per_class[class_label] + vocab_size\n",
        "                self.word_probs[class_label][word] = numerator / denominator\n",
        "\n",
        "    def predict(self, text):\n",
        "        \"\"\"Predict sentiment of text.\"\"\"\n",
        "        features = self.extract_features(text)\n",
        "\n",
        "        # Calculate log probabilities for each class\n",
        "        scores = {}\n",
        "        for class_label in self.class_probs:\n",
        "            # Start with log(P(class))\n",
        "            scores[class_label] = math.log(self.class_probs[class_label])\n",
        "\n",
        "            # Add log(P(word|class)) for each word\n",
        "            for word, count in features.items():\n",
        "                if word in self.vocabulary:\n",
        "                    scores[class_label] += count * math.log(self.word_probs[class_label][word])\n",
        "\n",
        "        # Return class with highest probability\n",
        "        return max(scores.items(), key=lambda x: x[1])[0]\n",
        "\n",
        "    def evaluate(self, test_texts, test_labels):\n",
        "        \"\"\"Calculate accuracy on test data.\"\"\"\n",
        "        correct = 0\n",
        "        total = len(test_texts)\n",
        "\n",
        "        predictions = []\n",
        "        for text in test_texts:\n",
        "            predictions.append(self.predict(text))\n",
        "\n",
        "        for pred, true in zip(predictions, test_labels):\n",
        "            if pred == true:\n",
        "                correct += 1\n",
        "\n",
        "        accuracy = correct / total\n",
        "        return accuracy\n"
      ],
      "metadata": {
        "id": "gqM70Xv3j2En"
      },
      "execution_count": 9,
      "outputs": []
    },
    {
      "cell_type": "markdown",
      "source": [
        "## Prepare and clean the data\n"
      ],
      "metadata": {
        "id": "6XozxqrJpfiZ"
      }
    },
    {
      "cell_type": "code",
      "source": [
        "# Remove any empty texts\n",
        "reddit_data = [post for post in reddit_data if post['text'].strip()]\n",
        "\n",
        "# Extract texts and labels\n",
        "texts = [post['text'] for post in reddit_data]\n",
        "labels = [post['sentiment'] for post in reddit_data]\n",
        "\n",
        "# Print some statistics\n",
        "print(f\"Total samples: {len(texts)}\")\n",
        "print(f\"Positive samples: {labels.count('positive')}\")\n",
        "print(f\"Negative samples: {labels.count('negative')}\")"
      ],
      "metadata": {
        "colab": {
          "base_uri": "https://localhost:8080/"
        },
        "id": "uVIIRtQsmoDM",
        "outputId": "b0ec71f3-8813-439f-d48e-12e581e3a651"
      },
      "execution_count": 13,
      "outputs": [
        {
          "output_type": "stream",
          "name": "stdout",
          "text": [
            "Total samples: 50\n",
            "Positive samples: 16\n",
            "Negative samples: 34\n"
          ]
        }
      ]
    },
    {
      "cell_type": "markdown",
      "source": [
        "## Split data and train model\n"
      ],
      "metadata": {
        "id": "eLp4HRIRo2Na"
      }
    },
    {
      "cell_type": "code",
      "source": [
        "# Split into training and testing sets (80-20 split)\n",
        "split_idx = int(0.8 * len(texts))\n",
        "train_texts = texts[:split_idx]\n",
        "train_labels = labels[:split_idx]\n",
        "test_texts = texts[split_idx:]\n",
        "test_labels = labels[split_idx:]\n",
        "\n",
        "# Initialize and train classifier\n",
        "classifier = NaiveBayesClassifier()\n",
        "classifier.train(train_texts, train_labels)"
      ],
      "metadata": {
        "id": "iHiI4liVmXU-"
      },
      "execution_count": 14,
      "outputs": []
    },
    {
      "cell_type": "markdown",
      "source": [
        "## Evaluate the model\n"
      ],
      "metadata": {
        "id": "zylEcBzMo65Y"
      }
    },
    {
      "cell_type": "code",
      "source": [
        "# Calculate and print accuracy\n",
        "accuracy = classifier.evaluate(test_texts, test_labels)\n",
        "print(f\"Model Accuracy: {accuracy:.2%}\")\n",
        "\n",
        "# Print some example predictions\n",
        "print(\"\\nExample Predictions:\")\n",
        "for text, true_label in zip(test_texts[:5], test_labels[:5]):\n",
        "    pred = classifier.predict(text)\n",
        "    print(f\"\\nText: {text[:100]}...\")  # Show first 100 chars\n",
        "    print(f\"True sentiment: {true_label}\")\n",
        "    print(f\"Predicted sentiment: {pred}\")"
      ],
      "metadata": {
        "colab": {
          "base_uri": "https://localhost:8080/"
        },
        "id": "WgSHOJsZmaLc",
        "outputId": "c2f9ec71-bac6-4b7b-8127-81753dd3e268"
      },
      "execution_count": 15,
      "outputs": [
        {
          "output_type": "stream",
          "name": "stdout",
          "text": [
            "Model Accuracy: 80.00%\n",
            "\n",
            "Example Predictions:\n",
            "\n",
            "Text: I made a project to convert syllabus into AI generated study material PDFs Hey everyone! 👋\n",
            "\n",
            "Recently...\n",
            "True sentiment: negative\n",
            "Predicted sentiment: negative\n",
            "\n",
            "Text: Looking for feedback on my SaaS which can make Blogs to infographics i have built out a tool which c...\n",
            "True sentiment: negative\n",
            "Predicted sentiment: positive\n",
            "\n",
            "Text: Best place to find Technical Co-Founder? \n",
            "I’ve been working on an idea for a sports-specific app tha...\n",
            "True sentiment: negative\n",
            "Predicted sentiment: negative\n",
            "\n",
            "Text: New to development! Want to build something like this https://www.owayo.com/. Stuck at text moulding...\n",
            "True sentiment: negative\n",
            "Predicted sentiment: negative\n",
            "\n",
            "Text: Would You Use a Gamified Learning & Rewards System for Tech Upskilling? Hi! I’m exploring an idea fo...\n",
            "True sentiment: negative\n",
            "Predicted sentiment: negative\n"
          ]
        }
      ]
    },
    {
      "cell_type": "code",
      "source": [
        "# Function to analyze new posts\n",
        "# def analyze_new_post(text):\n",
        "#     \"\"\"Analyze sentiment of a new post\"\"\"\n",
        "#     prediction = classifier.predict(text)\n",
        "#     return prediction"
      ],
      "metadata": {
        "id": "8xJJhNmkmdok"
      },
      "execution_count": null,
      "outputs": []
    },
    {
      "cell_type": "markdown",
      "source": [
        "### ***summary***\n",
        "- Calculates class probabilities P(class)\n",
        "- Calculates word probabilities P(word|class)\n",
        "- Uses Laplace smoothing to handle unseen words\n",
        "- Works with log probabilities to prevent underflow"
      ],
      "metadata": {
        "id": "ajLJYSixqfZ2"
      }
    }
  ]
}